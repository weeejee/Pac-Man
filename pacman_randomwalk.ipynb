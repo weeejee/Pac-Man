{
 "cells": [
  {
   "cell_type": "code",
   "execution_count": null,
   "metadata": {},
   "outputs": [],
   "source": [
    "class Tiles:\n",
    "  def __init__(self):\n",
    "      self.image = ('images/bg.gif', 'images/tile.gif')\n",
    "      self.position = [(‐5,‐5),(‐4,‐5),(‐3,‐5),(‐2,‐5),\n",
    "                       (‐2,‐4),(‐1,‐4),(0,‐4),(1,‐4),(2,‐4),(3,‐4),(4,‐4),\n",
    "                       (‐4,‐3),(‐3,‐3),(‐2,‐3),(2,‐3),\n",
    "                       (‐2,‐2),(‐1,‐2),(0,‐2),(2,‐2),(4,‐2),\n",
    "                       (‐5,‐1),(‐4,‐1),(4,‐1),\n",
    "                       (‐4,0),(‐3,0),(‐2,0),(0,0),(1,0),(3,0),(4,0),\n",
    "                       (‐2,1),(1,1),(4,1),\n",
    "                       (‐4,2),(0,2),(1,2),(2,2),(4,2),(5,2),\n",
    "                       (‐5,3),(‐4,3),(‐2,3),(0,3),\n",
    "                       (‐5,4),(‐2,4),(0,4),(2,4),(3,4),(4,4),\n",
    "                       (‐3,5),(‐2,5),(0,5),(3,5)]        \n",
    "  def draw(self, screen):\n",
    "    for img in self.image :\n",
    "      screen.addshape(img)\n",
    "      \n",
    "    pen = turtle.Turtle()\n",
    "    pen.penup()\n",
    "    pen.speed(0)\n",
    "    pen.shape(self.image[0])\n",
    "    \n",
    "    for pos in self.position :\n",
    "      pen = turtle.Turtle()\n",
    "      pen.penup()\n",
    "      pen.speed(0)\n",
    "      pen.shape(self.image[1])\n",
    "      pen.goto(pos[0]*50, pos[1]*50)"
   ]
  },
  {
   "cell_type": "code",
   "execution_count": null,
   "metadata": {},
   "outputs": [],
   "source": [
    "class Gem:\n",
    "  def __init__(self):        \n",
    "    self.image = 'images/gem.gif'\n",
    "    self.position = (5, ‐5)\n",
    "    \n",
    "  def draw(self, screen):\n",
    "     screen.addshape(self.image)\n",
    "      \n",
    "     pen = turtle.Turtle()\n",
    "     pen.penup()\n",
    "     pen.shape(self.image)\n",
    "    \n",
    "     pen.goto(self.position[0]*50, self.position[1]*50)\n",
    "      "
   ]
  },
  {
   "cell_type": "code",
   "execution_count": null,
   "metadata": {},
   "outputs": [],
   "source": [
    "class Pacman:\n",
    "  def __init__(self):\n",
    "    self.image = ('images/right.gif', 'images/left.gif',\n",
    "                  'images/up.gif', 'images/down.gif')\n",
    "     self.position = [‐5, 5]\n",
    "     self.pen = turtle.Turtle()  \n",
    "    \n",
    "  def draw(self, screen, idx):\n",
    "    self.pen.penup()\n",
    "    for img in self.image :\n",
    "      screen.addshape(img)\n",
    "      \n",
    "     self.pen.speed(1)\n",
    "    self.pen.shape(self.image[idx])   \n",
    "    self.pen.goto(self.position[0]*50, self.position[1]*50)\n",
    "    \n",
    "  def walk(self, screen, gem, tiles):\n",
    "    while tuple(self.position) != gem.position :\n",
    "      x, y = self.position[0], self.position[1]\n",
    "      direction = randint(0,3)\n",
    "      \n",
    "      if direction == 0 :             # right\n",
    "        x += 1\n",
    "      elif direction == 1 :           # left\n",
    "        x ‐= 1            \n",
    "      elif direction == 2 :           # up\n",
    "        y += 1                \n",
    "      elif direction == 3 :           # down\n",
    "        y ‐= 1\n",
    "      if abs(x)<=5 and abs(y)<=5 and (x, y) not in tiles.position :\n",
    "        self.position = [x, y]   \n",
    "        self.draw(screen, direction)"
   ]
  },
  {
   "cell_type": "code",
   "execution_count": null,
   "metadata": {},
   "outputs": [],
   "source": [
    "def main():\n",
    "    screen = turtle.Screen()\n",
    "    \n",
    "    tiles = Tiles()\n",
    "    tiles.draw(screen)\n",
    "    \n",
    "    gem = Gem()\n",
    "    gem.draw(screen)\n",
    "    \n",
    "    pacman = Pacman()\n",
    "    pacman.draw(screen, 0)    \n",
    "    pacman.walk(screen, gem, tiles)\n",
    "    \n",
    "    turtle.done()\n",
    "    \n",
    "main()"
   ]
  }
 ],
 "metadata": {
  "kernelspec": {
   "display_name": "Python 3",
   "language": "python",
   "name": "python3"
  },
  "language_info": {
   "codemirror_mode": {
    "name": "ipython",
    "version": 3
   },
   "file_extension": ".py",
   "mimetype": "text/x-python",
   "name": "python",
   "nbconvert_exporter": "python",
   "pygments_lexer": "ipython3",
   "version": "3.8.5"
  }
 },
 "nbformat": 4,
 "nbformat_minor": 4
}
